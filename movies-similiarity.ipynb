{
 "cells": [
  {
   "cell_type": "code",
   "execution_count": 1,
   "id": "sitting-charge",
   "metadata": {},
   "outputs": [],
   "source": [
    "import pandas as pd\n",
    "import numpy as np\n",
    "from sentence_transformers import SentenceTransformer, util"
   ]
  },
  {
   "cell_type": "code",
   "execution_count": 24,
   "id": "removed-harvey",
   "metadata": {},
   "outputs": [],
   "source": [
    "import torch "
   ]
  },
  {
   "cell_type": "code",
   "execution_count": 2,
   "id": "sharp-racing",
   "metadata": {},
   "outputs": [
    {
     "name": "stdout",
     "output_type": "stream",
     "text": [
      "film-info.csv               \u001b[34mvenv\u001b[m\u001b[m\r\n",
      "movies-similiarity.ipynb    web-scrapping-project.ipynb\r\n",
      "top1000-urls.txt\r\n"
     ]
    }
   ],
   "source": [
    "!ls"
   ]
  },
  {
   "cell_type": "code",
   "execution_count": 4,
   "id": "aerial-fleece",
   "metadata": {},
   "outputs": [
    {
     "data": {
      "text/html": [
       "<div>\n",
       "<style scoped>\n",
       "    .dataframe tbody tr th:only-of-type {\n",
       "        vertical-align: middle;\n",
       "    }\n",
       "\n",
       "    .dataframe tbody tr th {\n",
       "        vertical-align: top;\n",
       "    }\n",
       "\n",
       "    .dataframe thead th {\n",
       "        text-align: right;\n",
       "    }\n",
       "</style>\n",
       "<table border=\"1\" class=\"dataframe\">\n",
       "  <thead>\n",
       "    <tr style=\"text-align: right;\">\n",
       "      <th></th>\n",
       "      <th>id</th>\n",
       "      <th>title</th>\n",
       "      <th>image</th>\n",
       "      <th>director</th>\n",
       "      <th>writer</th>\n",
       "      <th>cast</th>\n",
       "      <th>release_date</th>\n",
       "      <th>country</th>\n",
       "      <th>budget</th>\n",
       "      <th>CWG</th>\n",
       "      <th>production_co</th>\n",
       "      <th>runtime</th>\n",
       "      <th>storyline</th>\n",
       "      <th>genres</th>\n",
       "      <th>keywords</th>\n",
       "      <th>metascore</th>\n",
       "      <th>imdbscore</th>\n",
       "      <th>imdb_url</th>\n",
       "    </tr>\n",
       "  </thead>\n",
       "  <tbody>\n",
       "    <tr>\n",
       "      <th>0</th>\n",
       "      <td>0</td>\n",
       "      <td>The Shawshank Redemption</td>\n",
       "      <td>https://m.media-amazon.com/images/M/MV5BMDFkYT...</td>\n",
       "      <td>['Frank Darabont']</td>\n",
       "      <td>['Stephen King', 'Frank Darabont']</td>\n",
       "      <td>['Tim Robbins', 'Morgan Freeman', 'Bob Gunton'...</td>\n",
       "      <td>14 October 1994 (USA)</td>\n",
       "      <td>USA</td>\n",
       "      <td>$25,000,000</td>\n",
       "      <td>$28,817,291</td>\n",
       "      <td>Castle Rock Entertainment</td>\n",
       "      <td>142 min</td>\n",
       "      <td>Chronicles the experiences of a formerly ...</td>\n",
       "      <td>['Drama']</td>\n",
       "      <td>['wrongful imprisonment', 'based on the works ...</td>\n",
       "      <td>80.0</td>\n",
       "      <td>9.3</td>\n",
       "      <td>/title/tt0111161/</td>\n",
       "    </tr>\n",
       "    <tr>\n",
       "      <th>1</th>\n",
       "      <td>1</td>\n",
       "      <td>The Godfather</td>\n",
       "      <td>https://m.media-amazon.com/images/M/MV5BM2MyNj...</td>\n",
       "      <td>['Francis Ford Coppola']</td>\n",
       "      <td>['Mario Puzo', 'Francis Ford Coppola', '1 more...</td>\n",
       "      <td>['Marlon Brando', 'Al Pacino', 'James Caan', '...</td>\n",
       "      <td>24 March 1972 (USA)</td>\n",
       "      <td>USA</td>\n",
       "      <td>$6,000,000</td>\n",
       "      <td>$246,120,986</td>\n",
       "      <td>Paramount Pictures</td>\n",
       "      <td>175 min</td>\n",
       "      <td>The Godfather \"Don\" Vito Corleone is the ...</td>\n",
       "      <td>['Crime', 'Drama']</td>\n",
       "      <td>['crime family', 'mafia', 'patriarch', 'organi...</td>\n",
       "      <td>100.0</td>\n",
       "      <td>9.2</td>\n",
       "      <td>/title/tt0068646/</td>\n",
       "    </tr>\n",
       "    <tr>\n",
       "      <th>2</th>\n",
       "      <td>2</td>\n",
       "      <td>The Dark Knight</td>\n",
       "      <td>https://m.media-amazon.com/images/M/MV5BMTMxNT...</td>\n",
       "      <td>['Christopher Nolan']</td>\n",
       "      <td>['Jonathan Nolan', 'Christopher Nolan', '3 mor...</td>\n",
       "      <td>['Christian Bale', 'Heath Ledger', 'Aaron Eckh...</td>\n",
       "      <td>18 July 2008 (USA)</td>\n",
       "      <td>USA</td>\n",
       "      <td>$185,000,000</td>\n",
       "      <td>$1,005,973,645</td>\n",
       "      <td>Warner Bros.</td>\n",
       "      <td>152 min</td>\n",
       "      <td>Set within a year after the events of Bat...</td>\n",
       "      <td>['Action', 'Crime', 'Drama', 'Thriller']</td>\n",
       "      <td>['dc comics', 'joker', 'psychopath', 'clown', ...</td>\n",
       "      <td>84.0</td>\n",
       "      <td>9.0</td>\n",
       "      <td>/title/tt0468569/</td>\n",
       "    </tr>\n",
       "    <tr>\n",
       "      <th>3</th>\n",
       "      <td>3</td>\n",
       "      <td>The Godfather: Part II</td>\n",
       "      <td>https://m.media-amazon.com/images/M/MV5BMWMwMG...</td>\n",
       "      <td>['Francis Ford Coppola']</td>\n",
       "      <td>['Francis Ford Coppola', 'Mario Puzo', '1 more...</td>\n",
       "      <td>['Al Pacino', 'Robert Duvall', 'Diane Keaton',...</td>\n",
       "      <td>18 December 1974 (USA)</td>\n",
       "      <td>USA</td>\n",
       "      <td>$13,000,000</td>\n",
       "      <td>$48,035,783</td>\n",
       "      <td>Paramount Pictures</td>\n",
       "      <td>202 min</td>\n",
       "      <td>The continuing saga of the Corleone crime...</td>\n",
       "      <td>['Crime', 'Drama']</td>\n",
       "      <td>['revenge', 'corrupt politician', 'bloody body...</td>\n",
       "      <td>90.0</td>\n",
       "      <td>9.0</td>\n",
       "      <td>/title/tt0071562/</td>\n",
       "    </tr>\n",
       "    <tr>\n",
       "      <th>4</th>\n",
       "      <td>4</td>\n",
       "      <td>12 Angry Men</td>\n",
       "      <td>https://m.media-amazon.com/images/M/MV5BMWU4N2...</td>\n",
       "      <td>['Sidney Lumet']</td>\n",
       "      <td>['Reginald Rose', 'Reginald Rose']</td>\n",
       "      <td>['Martin Balsam', 'John Fiedler', 'Lee J. Cobb...</td>\n",
       "      <td>10 April 1957 (USA)</td>\n",
       "      <td>USA</td>\n",
       "      <td>$350,000</td>\n",
       "      <td>$576</td>\n",
       "      <td>Orion-Nova Productions</td>\n",
       "      <td>96 min</td>\n",
       "      <td>The defense and the prosecution have rest...</td>\n",
       "      <td>['Crime', 'Drama']</td>\n",
       "      <td>['jury', 'dialogue driven', 'courtroom', 'sing...</td>\n",
       "      <td>96.0</td>\n",
       "      <td>9.0</td>\n",
       "      <td>/title/tt0050083/</td>\n",
       "    </tr>\n",
       "  </tbody>\n",
       "</table>\n",
       "</div>"
      ],
      "text/plain": [
       "   id                     title  \\\n",
       "0   0  The Shawshank Redemption   \n",
       "1   1             The Godfather   \n",
       "2   2           The Dark Knight   \n",
       "3   3    The Godfather: Part II   \n",
       "4   4              12 Angry Men   \n",
       "\n",
       "                                               image  \\\n",
       "0  https://m.media-amazon.com/images/M/MV5BMDFkYT...   \n",
       "1  https://m.media-amazon.com/images/M/MV5BM2MyNj...   \n",
       "2  https://m.media-amazon.com/images/M/MV5BMTMxNT...   \n",
       "3  https://m.media-amazon.com/images/M/MV5BMWMwMG...   \n",
       "4  https://m.media-amazon.com/images/M/MV5BMWU4N2...   \n",
       "\n",
       "                   director  \\\n",
       "0        ['Frank Darabont']   \n",
       "1  ['Francis Ford Coppola']   \n",
       "2     ['Christopher Nolan']   \n",
       "3  ['Francis Ford Coppola']   \n",
       "4          ['Sidney Lumet']   \n",
       "\n",
       "                                              writer  \\\n",
       "0                 ['Stephen King', 'Frank Darabont']   \n",
       "1  ['Mario Puzo', 'Francis Ford Coppola', '1 more...   \n",
       "2  ['Jonathan Nolan', 'Christopher Nolan', '3 mor...   \n",
       "3  ['Francis Ford Coppola', 'Mario Puzo', '1 more...   \n",
       "4                 ['Reginald Rose', 'Reginald Rose']   \n",
       "\n",
       "                                                cast            release_date  \\\n",
       "0  ['Tim Robbins', 'Morgan Freeman', 'Bob Gunton'...   14 October 1994 (USA)   \n",
       "1  ['Marlon Brando', 'Al Pacino', 'James Caan', '...     24 March 1972 (USA)   \n",
       "2  ['Christian Bale', 'Heath Ledger', 'Aaron Eckh...      18 July 2008 (USA)   \n",
       "3  ['Al Pacino', 'Robert Duvall', 'Diane Keaton',...  18 December 1974 (USA)   \n",
       "4  ['Martin Balsam', 'John Fiedler', 'Lee J. Cobb...     10 April 1957 (USA)   \n",
       "\n",
       "  country        budget                     CWG              production_co  \\\n",
       "0     USA   $25,000,000     $28,817,291          Castle Rock Entertainment   \n",
       "1     USA    $6,000,000    $246,120,986                 Paramount Pictures   \n",
       "2     USA  $185,000,000  $1,005,973,645                       Warner Bros.   \n",
       "3     USA   $13,000,000     $48,035,783                 Paramount Pictures   \n",
       "4     USA      $350,000            $576             Orion-Nova Productions   \n",
       "\n",
       "   runtime                                          storyline  \\\n",
       "0  142 min       Chronicles the experiences of a formerly ...   \n",
       "1  175 min       The Godfather \"Don\" Vito Corleone is the ...   \n",
       "2  152 min       Set within a year after the events of Bat...   \n",
       "3  202 min       The continuing saga of the Corleone crime...   \n",
       "4   96 min       The defense and the prosecution have rest...   \n",
       "\n",
       "                                     genres  \\\n",
       "0                                 ['Drama']   \n",
       "1                        ['Crime', 'Drama']   \n",
       "2  ['Action', 'Crime', 'Drama', 'Thriller']   \n",
       "3                        ['Crime', 'Drama']   \n",
       "4                        ['Crime', 'Drama']   \n",
       "\n",
       "                                            keywords  metascore  imdbscore  \\\n",
       "0  ['wrongful imprisonment', 'based on the works ...       80.0        9.3   \n",
       "1  ['crime family', 'mafia', 'patriarch', 'organi...      100.0        9.2   \n",
       "2  ['dc comics', 'joker', 'psychopath', 'clown', ...       84.0        9.0   \n",
       "3  ['revenge', 'corrupt politician', 'bloody body...       90.0        9.0   \n",
       "4  ['jury', 'dialogue driven', 'courtroom', 'sing...       96.0        9.0   \n",
       "\n",
       "            imdb_url  \n",
       "0  /title/tt0111161/  \n",
       "1  /title/tt0068646/  \n",
       "2  /title/tt0468569/  \n",
       "3  /title/tt0071562/  \n",
       "4  /title/tt0050083/  "
      ]
     },
     "execution_count": 4,
     "metadata": {},
     "output_type": "execute_result"
    }
   ],
   "source": [
    "movies = pd.read_csv('film-info.csv')\n",
    "movies.head()"
   ]
  },
  {
   "cell_type": "code",
   "execution_count": 5,
   "id": "crude-harassment",
   "metadata": {},
   "outputs": [],
   "source": [
    "descriptions = movies['storyline'].tolist()"
   ]
  },
  {
   "cell_type": "code",
   "execution_count": 6,
   "id": "early-beijing",
   "metadata": {},
   "outputs": [
    {
     "name": "stderr",
     "output_type": "stream",
     "text": [
      "100%|██████████| 245M/245M [00:31<00:00, 7.84MB/s] \n"
     ]
    }
   ],
   "source": [
    "model = SentenceTransformer('stsb-distilbert-base')"
   ]
  },
  {
   "cell_type": "code",
   "execution_count": 7,
   "id": "formed-dancing",
   "metadata": {},
   "outputs": [],
   "source": [
    "embedings = model.encode(descriptions, convert_to_tensor=True)"
   ]
  },
  {
   "cell_type": "code",
   "execution_count": 26,
   "id": "cloudy-greece",
   "metadata": {},
   "outputs": [],
   "source": [
    "cosine_scores = util.pytorch_cos_sim(embedings[2], torch.cat([embedings[:2],embedings[3:]]))"
   ]
  },
  {
   "cell_type": "code",
   "execution_count": 27,
   "id": "excess-whole",
   "metadata": {},
   "outputs": [
    {
     "name": "stdout",
     "output_type": "stream",
     "text": [
      "tensor(663)\n"
     ]
    }
   ],
   "source": [
    "#values, index = tensor.max(cosine_scores)\n",
    "print(cosine_scores.argmax())"
   ]
  },
  {
   "cell_type": "code",
   "execution_count": 28,
   "id": "linear-classification",
   "metadata": {},
   "outputs": [
    {
     "data": {
      "text/plain": [
       "id                                                             663\n",
       "title                                                 A Bronx Tale\n",
       "image            https://m.media-amazon.com/images/M/MV5BMTczOT...\n",
       "director                                        ['Robert De Niro']\n",
       "writer                    ['Chazz Palminteri', 'Chazz Palminteri']\n",
       "cast             ['Robert De Niro', 'Chazz Palminteri', 'Lillo ...\n",
       "release_date                                  1 October 1993 (USA)\n",
       "country                                                        USA\n",
       "budget                                                 $22,000,000\n",
       "CWG                                            $17,287,898        \n",
       "production_co                                  Price Entertainment\n",
       "runtime                                                    121 min\n",
       "storyline             The Bronx, New York, 1960. 9-year-old Cal...\n",
       "genres                               ['Crime', 'Drama', 'Romance']\n",
       "keywords         ['bus driver', 'italian american', 'father son...\n",
       "metascore                                                     80.0\n",
       "imdbscore                                                      7.8\n",
       "imdb_url                                         /title/tt0106489/\n",
       "Name: 663, dtype: object"
      ]
     },
     "execution_count": 28,
     "metadata": {},
     "output_type": "execute_result"
    }
   ],
   "source": [
    "movies.loc[663]"
   ]
  },
  {
   "cell_type": "code",
   "execution_count": null,
   "id": "behind-picking",
   "metadata": {},
   "outputs": [],
   "source": []
  }
 ],
 "metadata": {
  "kernelspec": {
   "display_name": "Python 3",
   "language": "python",
   "name": "python3"
  },
  "language_info": {
   "codemirror_mode": {
    "name": "ipython",
    "version": 3
   },
   "file_extension": ".py",
   "mimetype": "text/x-python",
   "name": "python",
   "nbconvert_exporter": "python",
   "pygments_lexer": "ipython3",
   "version": "3.9.0"
  }
 },
 "nbformat": 4,
 "nbformat_minor": 5
}
